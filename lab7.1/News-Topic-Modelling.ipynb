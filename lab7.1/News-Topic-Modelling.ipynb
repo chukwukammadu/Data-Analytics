{
 "cells": [
  {
   "cell_type": "markdown",
   "metadata": {},
   "source": [
    "# Topic Modelling for News"
   ]
  },
  {
   "cell_type": "markdown",
   "metadata": {},
   "source": [
    "![](https://images.unsplash.com/photo-1495020689067-958852a7765e?ixlib=rb-1.2.1&ixid=eyJhcHBfaWQiOjEyMDd9&auto=format&fit=crop&w=1050&q=80)\n",
    "\n",
    "Photo by [Roman Kraft](https://unsplash.com/photos/_Zua2hyvTBk)"
   ]
  },
  {
   "cell_type": "markdown",
   "metadata": {},
   "source": [
    "This exercise is about modelling the main topics of a database of News headlines."
   ]
  },
  {
   "cell_type": "markdown",
   "metadata": {},
   "source": [
    "Begin by importing the needed libraries:"
   ]
  },
  {
   "cell_type": "code",
   "execution_count": 9,
   "metadata": {},
   "outputs": [],
   "source": [
    "# TODO: import needed libraries\n",
    "import nltk\n",
    "import numpy as np\n",
    "import pandas as pd\n",
    "#nltk.download('stopwords')"
   ]
  },
  {
   "cell_type": "markdown",
   "metadata": {},
   "source": [
    "Load the data in the file `random_headlines.csv`"
   ]
  },
  {
   "cell_type": "code",
   "execution_count": 10,
   "metadata": {
    "scrolled": true
   },
   "outputs": [
    {
     "name": "stdout",
     "output_type": "stream",
     "text": [
      "(20000, 2)\n"
     ]
    },
    {
     "data": {
      "text/html": [
       "<div>\n",
       "<style scoped>\n",
       "    .dataframe tbody tr th:only-of-type {\n",
       "        vertical-align: middle;\n",
       "    }\n",
       "\n",
       "    .dataframe tbody tr th {\n",
       "        vertical-align: top;\n",
       "    }\n",
       "\n",
       "    .dataframe thead th {\n",
       "        text-align: right;\n",
       "    }\n",
       "</style>\n",
       "<table border=\"1\" class=\"dataframe\">\n",
       "  <thead>\n",
       "    <tr style=\"text-align: right;\">\n",
       "      <th></th>\n",
       "      <th>publish_date</th>\n",
       "      <th>headline_text</th>\n",
       "    </tr>\n",
       "  </thead>\n",
       "  <tbody>\n",
       "    <tr>\n",
       "      <th>0</th>\n",
       "      <td>20120305</td>\n",
       "      <td>ute driver hurt in intersection crash</td>\n",
       "    </tr>\n",
       "    <tr>\n",
       "      <th>1</th>\n",
       "      <td>20081128</td>\n",
       "      <td>6yo dies in cycling accident</td>\n",
       "    </tr>\n",
       "    <tr>\n",
       "      <th>2</th>\n",
       "      <td>20090325</td>\n",
       "      <td>bumper olive harvest expected</td>\n",
       "    </tr>\n",
       "    <tr>\n",
       "      <th>3</th>\n",
       "      <td>20100201</td>\n",
       "      <td>replica replaces northernmost sign</td>\n",
       "    </tr>\n",
       "    <tr>\n",
       "      <th>4</th>\n",
       "      <td>20080225</td>\n",
       "      <td>woods targets perfect season</td>\n",
       "    </tr>\n",
       "  </tbody>\n",
       "</table>\n",
       "</div>"
      ],
      "text/plain": [
       "   publish_date                          headline_text\n",
       "0      20120305  ute driver hurt in intersection crash\n",
       "1      20081128           6yo dies in cycling accident\n",
       "2      20090325          bumper olive harvest expected\n",
       "3      20100201     replica replaces northernmost sign\n",
       "4      20080225           woods targets perfect season"
      ]
     },
     "execution_count": 10,
     "metadata": {},
     "output_type": "execute_result"
    }
   ],
   "source": [
    "# TODO: load the dataset\n",
    "df = pd.read_csv(\"random_headlines.csv\")\n",
    "print(df.shape)\n",
    "df.head()"
   ]
  },
  {
   "cell_type": "markdown",
   "metadata": {},
   "source": [
    "This is always a good idea to perform some EDA (exploratory data analytics) on a dataset..."
   ]
  },
  {
   "cell_type": "code",
   "execution_count": 11,
   "metadata": {},
   "outputs": [
    {
     "name": "stdout",
     "output_type": "stream",
     "text": [
      "<class 'pandas.core.frame.DataFrame'>\n",
      "RangeIndex: 20000 entries, 0 to 19999\n",
      "Data columns (total 2 columns):\n",
      " #   Column         Non-Null Count  Dtype \n",
      "---  ------         --------------  ----- \n",
      " 0   publish_date   20000 non-null  int64 \n",
      " 1   headline_text  20000 non-null  object\n",
      "dtypes: int64(1), object(1)\n",
      "memory usage: 312.6+ KB\n"
     ]
    }
   ],
   "source": [
    "# TODO: Perform a short EDA\n",
    "df.info()"
   ]
  },
  {
   "cell_type": "markdown",
   "metadata": {},
   "source": [
    "Now perform all the needed preprocessing on those headlines: case lowering, tokenization, punctuation removal, stopwords removal, stemming/lemmatization."
   ]
  },
  {
   "cell_type": "code",
   "execution_count": 12,
   "metadata": {},
   "outputs": [
    {
     "data": {
      "text/plain": [
       "0    [ute, driver, hurt, intersect, crash]\n",
       "1                       [die, cycl, accid]\n",
       "2          [bumper, oliv, harvest, expect]\n",
       "3    [replica, replac, northernmost, sign]\n",
       "4          [wood, target, perfect, season]\n",
       "Name: stemmed, dtype: object"
      ]
     },
     "execution_count": 12,
     "metadata": {},
     "output_type": "execute_result"
    }
   ],
   "source": [
    "# TODO: Preprocess the input data(preprocessing)\n",
    "#tokenize\n",
    "df[\"tokens\"] = df[\"headline_text\"].apply(lambda row:nltk.word_tokenize(row))\n",
    "\n",
    "#remove punctuation\n",
    "df[\"alphanumeric\"] = df[\"tokens\"].apply(lambda row:[word for word in row if word.isalpha()])\n",
    "#remove stopwords\n",
    "stop = nltk.corpus.stopwords.words(\"english\")\n",
    "df[\"stop\"] = df[\"alphanumeric\"].apply(lambda row:[word for word in row if word not in stop])\n",
    "#stemming\n",
    "stemmer = nltk.PorterStemmer()\n",
    "df[\"stemmed\"] = df[\"stop\"].apply(lambda row: [stemmer.stem(word) for word in row])\n",
    "df[\"stemmed\"].head()"
   ]
  },
  {
   "cell_type": "markdown",
   "metadata": {},
   "source": [
    "Now use Gensim to compute a BOW"
   ]
  },
  {
   "cell_type": "code",
   "execution_count": 14,
   "metadata": {},
   "outputs": [
    {
     "name": "stdout",
     "output_type": "stream",
     "text": [
      "20000\n"
     ]
    },
    {
     "data": {
      "text/plain": [
       "[[(0, 1), (1, 1), (2, 1), (3, 1), (4, 1)], [(5, 1), (6, 1), (7, 1)]]"
      ]
     },
     "execution_count": 14,
     "metadata": {},
     "output_type": "execute_result"
    }
   ],
   "source": [
    "# TODO: Compute the BOW using Gensim\n",
    "from gensim.corpora import Dictionary\n",
    "dictionary=Dictionary(df[\"stemmed\"])\n",
    "corpus = [dictionary.doc2bow(line) for line in df[\"stemmed\"]]\n",
    "print(len(corpus))\n",
    "corpus[0:2]"
   ]
  },
  {
   "cell_type": "markdown",
   "metadata": {},
   "source": [
    "Compute the TF-IDF using Gensim"
   ]
  },
  {
   "cell_type": "code",
   "execution_count": 16,
   "metadata": {},
   "outputs": [
    {
     "name": "stdout",
     "output_type": "stream",
     "text": [
      "20000\n"
     ]
    }
   ],
   "source": [
    "# TODO: Compute TF-IDF\n",
    "from gensim.models import TfidfModel\n",
    "tfidf_model = TfidfModel(corpus)\n",
    "tf_idf = tfidf_model[corpus]\n",
    "print(len(tf_idf))"
   ]
  },
  {
   "cell_type": "markdown",
   "metadata": {},
   "source": [
    "Finally compute the **LSA** (also called LSI) using Gensim, for a given number of Topics that you choose yourself"
   ]
  },
  {
   "cell_type": "code",
   "execution_count": 17,
   "metadata": {},
   "outputs": [],
   "source": [
    "# TODO: Compute LSA\n",
    "from gensim.models import LsiModel\n",
    "Lsi = LsiModel(corpus = corpus,num_topics=4,id2word=dictionary)"
   ]
  },
  {
   "cell_type": "markdown",
   "metadata": {},
   "source": [
    "For each of the topic, show the most significant words."
   ]
  },
  {
   "cell_type": "code",
   "execution_count": 18,
   "metadata": {},
   "outputs": [
    {
     "data": {
      "text/plain": [
       "[(0, '-0.752*\"polic\" + -0.404*\"man\" + -0.208*\"charg\"'),\n",
       " (1, '-0.670*\"man\" + 0.574*\"polic\" + -0.328*\"charg\"'),\n",
       " (2, '-0.654*\"new\" + -0.296*\"plan\" + -0.243*\"say\"'),\n",
       " (3, '-0.703*\"new\" + 0.347*\"say\" + 0.333*\"plan\"')]"
      ]
     },
     "execution_count": 18,
     "metadata": {},
     "output_type": "execute_result"
    }
   ],
   "source": [
    "# TODO: Print the 3 or 4 most significant words of each topic\n",
    "Lsi.print_topics(num_words =3)"
   ]
  },
  {
   "cell_type": "markdown",
   "metadata": {},
   "source": [
    "What do you think about those results?"
   ]
  },
  {
   "cell_type": "markdown",
   "metadata": {},
   "source": [
    "i can said that the words from the result is the most common topic in the news articles"
   ]
  },
  {
   "cell_type": "markdown",
   "metadata": {},
   "source": [
    "Now let's try to use LDA instead of LSA using Gensim"
   ]
  },
  {
   "cell_type": "code",
   "execution_count": 19,
   "metadata": {},
   "outputs": [],
   "source": [
    "# TODO: Compute LDA\n",
    "from gensim.models import LdaModel\n",
    "lda = LdaModel(corpus = corpus,num_topics=4,id2word=dictionary,random_state=0,chunksize=512,passes=5)"
   ]
  },
  {
   "cell_type": "code",
   "execution_count": 20,
   "metadata": {
    "scrolled": true
   },
   "outputs": [
    {
     "data": {
      "text/plain": [
       "[(0, '0.016*\"report\" + 0.009*\"back\" + 0.009*\"may\"'),\n",
       " (1, '0.012*\"mine\" + 0.011*\"polic\" + 0.009*\"elect\"'),\n",
       " (2, '0.013*\"question\" + 0.010*\"council\" + 0.010*\"fund\"'),\n",
       " (3, '0.012*\"sydney\" + 0.012*\"charg\" + 0.011*\"australian\"')]"
      ]
     },
     "execution_count": 20,
     "metadata": {},
     "output_type": "execute_result"
    }
   ],
   "source": [
    "# TODO: print the most frequent words of each topic\n",
    "lda.print_topics(num_words =3)"
   ]
  },
  {
   "cell_type": "markdown",
   "metadata": {},
   "source": [
    "Now, how does it work with LDA?"
   ]
  },
  {
   "cell_type": "markdown",
   "metadata": {},
   "source": [
    "Let's make some visualization of the LDA results using pyLDAvis."
   ]
  },
  {
   "cell_type": "code",
   "execution_count": 24,
   "metadata": {},
   "outputs": [
    {
     "data": {
      "text/html": [
       "\n",
       "<link rel=\"stylesheet\" type=\"text/css\" href=\"https://cdn.jsdelivr.net/gh/bmabey/pyLDAvis@3.4.0/pyLDAvis/js/ldavis.v1.0.0.css\">\n",
       "\n",
       "\n",
       "<div id=\"ldavis_el2853626872414640648597890999\" style=\"background-color:white;\"></div>\n",
       "<script type=\"text/javascript\">\n",
       "\n",
       "var ldavis_el2853626872414640648597890999_data = {\"mdsDat\": {\"x\": [-0.22849451618066158, -0.14962673386400785, 0.21956891594391156, 0.1585523341007578], \"y\": [-0.02862290469493514, -0.01071858333385112, -0.23570065210761132, 0.27504214013639766], \"topics\": [1, 2, 3, 4], \"cluster\": [1, 1, 1, 1], \"Freq\": [26.8924878269996, 26.672673173981586, 23.91682947725276, 22.51800952176605]}, \"tinfo\": {\"Term\": [\"report\", \"question\", \"mine\", \"sydney\", \"charg\", \"council\", \"australian\", \"fund\", \"interview\", \"elect\", \"back\", \"win\", \"may\", \"labor\", \"trial\", \"union\", \"road\", \"cut\", \"call\", \"govern\", \"final\", \"lead\", \"stori\", \"begin\", \"want\", \"urg\", \"warn\", \"govt\", \"forc\", \"attack\", \"question\", \"council\", \"fund\", \"cut\", \"govern\", \"urg\", \"forc\", \"set\", \"want\", \"aussi\", \"support\", \"concern\", \"farmer\", \"approv\", \"group\", \"doctor\", \"claim\", \"hospit\", \"school\", \"mp\", \"citi\", \"coast\", \"team\", \"figur\", \"ban\", \"reduc\", \"titl\", \"men\", \"job\", \"seek\", \"disput\", \"draw\", \"next\", \"drug\", \"govt\", \"plan\", \"new\", \"say\", \"wa\", \"fear\", \"polic\", \"chang\", \"mine\", \"elect\", \"win\", \"road\", \"final\", \"warn\", \"commun\", \"club\", \"run\", \"rise\", \"station\", \"student\", \"drought\", \"perth\", \"woman\", \"rate\", \"found\", \"search\", \"debat\", \"stage\", \"fall\", \"turnbul\", \"held\", \"record\", \"minist\", \"world\", \"injuri\", \"telstra\", \"countri\", \"review\", \"qld\", \"econom\", \"friday\", \"eye\", \"debt\", \"polic\", \"call\", \"water\", \"help\", \"health\", \"take\", \"trade\", \"futur\", \"miss\", \"hit\", \"sydney\", \"charg\", \"australian\", \"interview\", \"trial\", \"stori\", \"lead\", \"murder\", \"market\", \"open\", \"shoot\", \"accus\", \"leav\", \"day\", \"test\", \"two\", \"busi\", \"success\", \"olymp\", \"bu\", \"risk\", \"point\", \"board\", \"arm\", \"pull\", \"full\", \"second\", \"appoint\", \"hope\", \"fourth\", \"latest\", \"sieg\", \"line\", \"sold\", \"man\", \"melbourn\", \"polic\", \"court\", \"us\", \"report\", \"back\", \"may\", \"labor\", \"union\", \"begin\", \"blaze\", \"car\", \"die\", \"drum\", \"work\", \"news\", \"pole\", \"dead\", \"judg\", \"abc\", \"great\", \"rural\", \"collaps\", \"resid\", \"state\", \"train\", \"garrett\", \"iraq\", \"pakistan\", \"big\", \"fail\", \"deni\", \"former\", \"bid\", \"italian\", \"singapor\", \"lock\", \"sunday\", \"paint\", \"attack\", \"pay\", \"crash\", \"call\", \"kill\", \"man\", \"us\"], \"Freq\": [373.0, 354.0, 336.0, 298.0, 284.0, 284.0, 259.0, 264.0, 229.0, 235.0, 203.0, 229.0, 202.0, 190.0, 195.0, 183.0, 206.0, 206.0, 366.0, 199.0, 195.0, 176.0, 175.0, 167.0, 188.0, 183.0, 179.0, 343.0, 180.0, 230.0, 353.65269356454644, 283.8445852592473, 264.16110048140007, 206.04029171509478, 198.96102016457885, 182.68785458574555, 179.8328688533402, 172.31743730611186, 187.93441649264832, 167.18523105418382, 162.57283491351043, 147.48476187280028, 142.85305592992188, 142.52421115464568, 135.90066635317638, 138.2672284326018, 132.42971977119134, 127.63718874248283, 120.15960594927716, 119.46485134259603, 124.82354628585647, 115.42640470538757, 124.99710325058555, 122.94813153077989, 112.59245034105251, 119.99793292802089, 134.9958293209086, 120.29550687258046, 107.57055277956522, 105.92153035952259, 112.25919887106154, 109.13928470800413, 109.45758168047902, 166.9401777160209, 232.07599480554364, 208.7077167007328, 221.3377919585623, 162.198844000544, 147.6173609869441, 133.92501535272143, 172.3214457281265, 127.49357931530527, 335.9628392014599, 234.9257764177432, 228.46334458233468, 206.0672661181231, 194.36616600054992, 179.20696987545898, 147.21211151933434, 150.33952708816915, 155.47899506147684, 140.19654080053834, 137.63947922328182, 146.02133828075077, 152.74260837869124, 145.53116005581703, 127.95796232360921, 126.62662664353546, 120.2222496067335, 116.98988686464938, 111.62671168231246, 117.16570778457337, 109.05423168839354, 115.30320127923282, 113.86177045869356, 102.20378456655615, 102.14217461237203, 100.66161796674025, 116.17587091983246, 111.87515207046711, 95.2233831287422, 95.70224601979476, 167.03168336180443, 115.55500568556836, 111.9667068834584, 113.38272917273746, 104.52242135524203, 291.3603160554913, 185.10452699132628, 129.4321031239604, 137.64277952899718, 123.08866068920776, 125.75612322676442, 121.02112746973641, 121.7115157464056, 118.8653142580029, 118.59149082357425, 298.1834402397726, 283.68622319485854, 258.82269614789294, 229.08740490706205, 194.4770359533375, 175.09114434158633, 175.70867002917257, 163.82994425743, 152.2500979020342, 146.68209480477046, 141.01828530388, 136.22543999252505, 133.5349882268024, 130.0292393912186, 122.42406194354037, 121.83808324228846, 114.1671381548636, 110.27285064839998, 110.42257600476549, 104.83994772006677, 113.74627553456696, 103.38373608865109, 104.27134785482158, 102.26939963945553, 97.04850479929098, 100.92591621056596, 93.29137412874094, 97.17389292969048, 95.89246371405038, 99.41775088597308, 101.51219198593763, 99.21499779922813, 99.89604021880734, 98.866804078999, 229.18267429208765, 125.22605361531002, 217.11323836137856, 145.11110972977332, 113.42440715172079, 373.11803239528587, 202.49832006036263, 201.5943107595063, 189.42479259401009, 182.6316737945582, 166.63303067268717, 154.347577192493, 134.56404461708073, 120.67898070550365, 121.41264244133797, 114.27206194295042, 109.07857509020381, 114.70844646932352, 106.28528381496821, 113.38572747943739, 101.1606244785469, 105.97622696649853, 93.40441530295601, 119.8363976500705, 90.94218029333375, 91.33403886002095, 89.9747384432414, 94.84604947969109, 79.61767103587017, 79.38640283550116, 75.23757094607365, 74.04318547541267, 72.52513425237926, 71.78432405068091, 72.00512504670724, 104.86871498881736, 103.5752353220591, 99.89386684219689, 96.70955609784728, 92.9203420645057, 187.2120277474987, 135.08917984831214, 156.63448383995996, 181.2358457391912, 143.09514964386616, 112.85540705551001, 100.2916528802025], \"Total\": [373.0, 354.0, 336.0, 298.0, 284.0, 284.0, 259.0, 264.0, 229.0, 235.0, 203.0, 229.0, 202.0, 190.0, 195.0, 183.0, 206.0, 206.0, 366.0, 199.0, 195.0, 176.0, 175.0, 167.0, 188.0, 183.0, 179.0, 343.0, 180.0, 230.0, 354.43924907874924, 284.5460026048975, 264.9029034322353, 206.7609703269902, 199.6792407652246, 183.38771373734335, 180.5572194451727, 173.03155260280337, 188.72725784709198, 167.9154263782367, 163.30081395945547, 148.1880342855901, 143.55405552280826, 143.25113944382352, 136.60160428659702, 138.98518320672866, 133.13782682532567, 128.34636294513447, 120.86654870554267, 120.17279268250078, 125.57426891067564, 116.12236245479224, 125.75088399551646, 123.7130573408103, 113.29925982071141, 120.75239683480694, 135.85163262207132, 121.0668345074007, 108.26885616522941, 106.63343044530677, 113.03508913842849, 109.93170091159926, 110.34453611519012, 205.23994401102274, 343.3543014644258, 322.6996708014866, 442.1768271832873, 329.53129283333294, 254.58308150958592, 184.55939126312617, 698.3961528879423, 169.192490181319, 336.7108988726648, 235.64776093944187, 229.18078019824037, 206.7859340606553, 195.08454079599957, 179.9246478120314, 147.9220249237815, 151.08090250740395, 156.25630352861958, 140.8999693730837, 138.36029980799935, 146.79126666931248, 153.55114680851182, 146.30532771078455, 128.6732846154101, 127.35155968873501, 120.93539129019474, 117.69858508606434, 112.33223399373898, 117.90926642632769, 109.76590626409941, 116.06551257307525, 114.63181733444225, 102.91279580742466, 102.85090337246695, 101.3689549464301, 117.01068091194995, 112.69677472105656, 95.92413689460506, 96.41506599870029, 168.44783873031855, 116.4739154750673, 112.88027669468174, 114.38051196138716, 105.56692745511218, 698.3961528879423, 366.81653659603546, 180.5116768762662, 224.35131826952238, 164.4037707492525, 195.04855180659118, 161.48671835297043, 176.48076051910033, 166.2000591560231, 182.1000566997454, 298.9096667457528, 284.40346808310795, 259.59448926494065, 229.79626636252686, 195.2122962723641, 175.82445030849516, 176.44919451162204, 164.54431577482325, 152.97449815751753, 147.40965033502061, 141.74724505635092, 136.95214915511474, 134.26061899927947, 130.74690555305483, 123.14529956904578, 122.56891457144548, 114.89874837980658, 111.00337374058222, 111.16879685063539, 105.57354330039868, 114.56528503240305, 104.14229408647824, 105.03761940301713, 103.02375323669483, 97.76733370280782, 101.6863602574601, 94.00219056286998, 97.91682929201616, 96.62608272320436, 100.18360032050255, 102.31592263179084, 99.99080883159236, 100.7239757247791, 99.83489812116298, 385.3808473733323, 150.84062003365094, 698.3961528879423, 257.2701136099073, 214.19723653227186, 373.83840022049475, 203.20290901386653, 202.29758069435297, 190.18046140275837, 183.37060708855228, 167.3462363385657, 155.08727077077276, 135.25934452732207, 121.36786999111972, 122.11319745981278, 114.97147467137631, 109.7653775320488, 115.43087909037949, 106.98280479263903, 114.1346165557563, 101.84519830047226, 106.69515299883183, 94.09452845866817, 120.72720708197318, 91.6408143435003, 92.04050942282731, 90.68169959567683, 95.62319546194647, 80.30868472953887, 80.09515733167912, 75.94431358197882, 74.74023149601909, 73.22569903152363, 72.48410138006187, 72.71368115408164, 105.95837212649059, 104.65096673654853, 101.041486914328, 97.9587787831673, 94.84030767025588, 230.03892366641963, 162.44305822069782, 201.38650909962558, 366.81653659603546, 228.64447344734697, 385.3808473733323, 214.19723653227186], \"Category\": [\"Default\", \"Default\", \"Default\", \"Default\", \"Default\", \"Default\", \"Default\", \"Default\", \"Default\", \"Default\", \"Default\", \"Default\", \"Default\", \"Default\", \"Default\", \"Default\", \"Default\", \"Default\", \"Default\", \"Default\", \"Default\", \"Default\", \"Default\", \"Default\", \"Default\", \"Default\", \"Default\", \"Default\", \"Default\", \"Default\", \"Topic1\", \"Topic1\", \"Topic1\", \"Topic1\", \"Topic1\", \"Topic1\", \"Topic1\", \"Topic1\", \"Topic1\", \"Topic1\", \"Topic1\", \"Topic1\", \"Topic1\", \"Topic1\", \"Topic1\", \"Topic1\", \"Topic1\", \"Topic1\", \"Topic1\", \"Topic1\", \"Topic1\", \"Topic1\", \"Topic1\", \"Topic1\", \"Topic1\", \"Topic1\", \"Topic1\", \"Topic1\", \"Topic1\", \"Topic1\", \"Topic1\", \"Topic1\", \"Topic1\", \"Topic1\", \"Topic1\", \"Topic1\", \"Topic1\", \"Topic1\", \"Topic1\", \"Topic1\", \"Topic1\", \"Topic1\", \"Topic2\", \"Topic2\", \"Topic2\", \"Topic2\", \"Topic2\", \"Topic2\", \"Topic2\", \"Topic2\", \"Topic2\", \"Topic2\", \"Topic2\", \"Topic2\", \"Topic2\", \"Topic2\", \"Topic2\", \"Topic2\", \"Topic2\", \"Topic2\", \"Topic2\", \"Topic2\", \"Topic2\", \"Topic2\", \"Topic2\", \"Topic2\", \"Topic2\", \"Topic2\", \"Topic2\", \"Topic2\", \"Topic2\", \"Topic2\", \"Topic2\", \"Topic2\", \"Topic2\", \"Topic2\", \"Topic2\", \"Topic2\", \"Topic2\", \"Topic2\", \"Topic2\", \"Topic2\", \"Topic2\", \"Topic2\", \"Topic2\", \"Topic2\", \"Topic2\", \"Topic3\", \"Topic3\", \"Topic3\", \"Topic3\", \"Topic3\", \"Topic3\", \"Topic3\", \"Topic3\", \"Topic3\", \"Topic3\", \"Topic3\", \"Topic3\", \"Topic3\", \"Topic3\", \"Topic3\", \"Topic3\", \"Topic3\", \"Topic3\", \"Topic3\", \"Topic3\", \"Topic3\", \"Topic3\", \"Topic3\", \"Topic3\", \"Topic3\", \"Topic3\", \"Topic3\", \"Topic3\", \"Topic3\", \"Topic3\", \"Topic3\", \"Topic3\", \"Topic3\", \"Topic3\", \"Topic3\", \"Topic3\", \"Topic3\", \"Topic3\", \"Topic3\", \"Topic4\", \"Topic4\", \"Topic4\", \"Topic4\", \"Topic4\", \"Topic4\", \"Topic4\", \"Topic4\", \"Topic4\", \"Topic4\", \"Topic4\", \"Topic4\", \"Topic4\", \"Topic4\", \"Topic4\", \"Topic4\", \"Topic4\", \"Topic4\", \"Topic4\", \"Topic4\", \"Topic4\", \"Topic4\", \"Topic4\", \"Topic4\", \"Topic4\", \"Topic4\", \"Topic4\", \"Topic4\", \"Topic4\", \"Topic4\", \"Topic4\", \"Topic4\", \"Topic4\", \"Topic4\", \"Topic4\", \"Topic4\", \"Topic4\", \"Topic4\", \"Topic4\", \"Topic4\", \"Topic4\", \"Topic4\"], \"logprob\": [30.0, 29.0, 28.0, 27.0, 26.0, 25.0, 24.0, 23.0, 22.0, 21.0, 20.0, 19.0, 18.0, 17.0, 16.0, 15.0, 14.0, 13.0, 12.0, 11.0, 10.0, 9.0, 8.0, 7.0, 6.0, 5.0, 4.0, 3.0, 2.0, 1.0, -4.3569, -4.5768, -4.6486, -4.8971, -4.9321, -5.0174, -5.0332, -5.0759, -4.9891, -5.1061, -5.1341, -5.2315, -5.2634, -5.2657, -5.3133, -5.296, -5.3391, -5.376, -5.4364, -5.4422, -5.3983, -5.4766, -5.3969, -5.4134, -5.5014, -5.4377, -5.32, -5.4353, -5.5471, -5.5625, -5.5044, -5.5326, -5.5297, -5.1076, -4.7781, -4.8843, -4.8255, -5.1364, -5.2306, -5.3279, -5.0758, -5.3771, -4.4, -4.7577, -4.7856, -4.8888, -4.9473, -5.0285, -5.2251, -5.2041, -5.1705, -5.2739, -5.2924, -5.2332, -5.1882, -5.2366, -5.3653, -5.3758, -5.4277, -5.4549, -5.5018, -5.4534, -5.5251, -5.4694, -5.482, -5.59, -5.5906, -5.6052, -5.4619, -5.4996, -5.6608, -5.6558, -5.0988, -5.4672, -5.4988, -5.4862, -5.5676, -4.5424, -4.9961, -5.3538, -5.2923, -5.4041, -5.3826, -5.421, -5.4153, -5.439, -5.4413, -4.4102, -4.4601, -4.5518, -4.6738, -4.8376, -4.9426, -4.9391, -5.0091, -5.0824, -5.1197, -5.159, -5.1936, -5.2136, -5.2402, -5.3004, -5.3052, -5.3703, -5.405, -5.4036, -5.4555, -5.374, -5.4695, -5.4609, -5.4803, -5.5327, -5.4936, -5.5722, -5.5314, -5.5447, -5.5086, -5.4878, -5.5106, -5.5038, -5.5142, -4.6734, -5.2778, -4.7275, -5.1304, -5.3768, -4.1258, -4.7369, -4.7414, -4.8037, -4.8402, -4.9319, -5.0085, -5.1456, -5.2545, -5.2485, -5.3091, -5.3556, -5.3053, -5.3815, -5.3169, -5.431, -5.3845, -5.5107, -5.2615, -5.5374, -5.5331, -5.5481, -5.4954, -5.6704, -5.6733, -5.727, -5.743, -5.7637, -5.774, -5.7709, -5.395, -5.4074, -5.4436, -5.476, -5.5159, -4.8154, -5.1417, -4.9938, -4.8479, -5.0842, -5.3216, -5.4396], \"loglift\": [30.0, 29.0, 28.0, 27.0, 26.0, 25.0, 24.0, 23.0, 22.0, 21.0, 20.0, 19.0, 18.0, 17.0, 16.0, 15.0, 14.0, 13.0, 12.0, 11.0, 10.0, 9.0, 8.0, 7.0, 6.0, 5.0, 4.0, 3.0, 2.0, 1.0, 1.3111, 1.3109, 1.3105, 1.3098, 1.3097, 1.3095, 1.3093, 1.3092, 1.3091, 1.309, 1.3089, 1.3086, 1.3084, 1.3082, 1.3082, 1.3081, 1.308, 1.3078, 1.3075, 1.3074, 1.3073, 1.3073, 1.3073, 1.3071, 1.3071, 1.3071, 1.307, 1.3069, 1.3069, 1.3066, 1.3064, 1.3061, 1.3053, 1.1068, 0.9216, 0.8775, 0.6213, 0.6045, 0.7683, 0.9926, -0.0861, 1.0304, 1.3193, 1.3185, 1.3184, 1.318, 1.3178, 1.3175, 1.3167, 1.3166, 1.3165, 1.3165, 1.3163, 1.3163, 1.3163, 1.3162, 1.316, 1.3158, 1.3156, 1.3155, 1.3152, 1.3152, 1.315, 1.3149, 1.3148, 1.3146, 1.3146, 1.3145, 1.3144, 1.3142, 1.3142, 1.3141, 1.3131, 1.3136, 1.3134, 1.3128, 1.3116, 0.4473, 0.6376, 0.9889, 0.833, 1.0321, 0.8826, 1.0331, 0.95, 0.9863, 0.8927, 1.4282, 1.4281, 1.4276, 1.4275, 1.4268, 1.4264, 1.4264, 1.4262, 1.4258, 1.4256, 1.4254, 1.4253, 1.4252, 1.4251, 1.4247, 1.4246, 1.4242, 1.424, 1.4239, 1.4236, 1.4234, 1.4233, 1.4233, 1.4232, 1.4232, 1.4231, 1.423, 1.423, 1.423, 1.4229, 1.4227, 1.4228, 1.4223, 1.4208, 0.9109, 1.2445, 0.2622, 0.858, 0.7948, 1.4889, 1.4874, 1.4874, 1.4869, 1.4868, 1.4866, 1.4861, 1.4857, 1.4852, 1.4851, 1.4848, 1.4846, 1.4846, 1.4843, 1.4843, 1.4841, 1.4841, 1.4835, 1.4834, 1.4832, 1.4831, 1.483, 1.4827, 1.4822, 1.482, 1.4815, 1.4815, 1.4812, 1.4812, 1.4811, 1.4805, 1.4805, 1.4794, 1.478, 1.4704, 1.2848, 1.3065, 1.2395, 0.7858, 1.0222, 0.2627, 0.732]}, \"token.table\": {\"Topic\": [4, 3, 3, 1, 3, 3, 4, 1, 3, 4, 1, 4, 4, 4, 4, 3, 3, 3, 2, 4, 4, 1, 2, 3, 1, 1, 2, 1, 4, 2, 1, 1, 2, 1, 3, 2, 4, 1, 3, 4, 2, 2, 4, 4, 1, 1, 1, 2, 1, 2, 4, 2, 2, 2, 4, 2, 1, 1, 4, 1, 2, 1, 4, 2, 3, 2, 3, 1, 1, 2, 4, 1, 1, 2, 4, 1, 2, 3, 2, 1, 2, 3, 2, 4, 3, 1, 2, 3, 4, 4, 1, 4, 3, 4, 4, 3, 3, 3, 3, 4, 2, 3, 4, 3, 4, 2, 3, 1, 2, 2, 2, 3, 1, 3, 1, 2, 3, 4, 4, 1, 3, 3, 1, 2, 3, 4, 4, 2, 4, 2, 1, 2, 3, 4, 1, 2, 3, 4, 3, 2, 4, 1, 2, 2, 1, 4, 4, 2, 2, 3, 2, 2, 4, 1, 2, 3, 4, 1, 2, 3, 1, 1, 3, 3, 3, 4, 3, 2, 4, 2, 3, 2, 3, 2, 4, 1, 3, 2, 3, 1, 2, 3, 1, 1, 2, 4, 3, 2, 3, 4, 1, 3, 4, 1, 2, 1, 2, 1, 2, 2, 2, 4, 2], \"Freq\": [0.9917011472845417, 0.9930475778511784, 0.9906366525688662, 0.9982468590141861, 0.9900629398121151, 0.18257779740312283, 0.8129059074853325, 0.994548288992968, 0.9977099311059183, 0.9940802569229733, 0.9973586780603424, 0.9979310180728224, 0.9901850498729484, 0.9875657104865466, 0.9929892971526992, 0.9901214497347288, 0.9945673576687037, 0.9921779097467999, 0.5043393128258424, 0.49343467903501337, 0.998082612863249, 0.7506243324623779, 0.24232754040124013, 0.9985813531535767, 0.9954268584188681, 0.9914537674794821, 0.9928455384534721, 0.9903346570715078, 0.9939764440878732, 0.9937668178605817, 0.9919829270202714, 0.9980811447010357, 0.9903659608048344, 0.4353401117155139, 0.5636099660602636, 0.21848534043674828, 0.77959541928567, 0.9963195649266555, 0.9942873940312741, 0.9908134321721704, 0.9970423984111497, 0.99462968688415, 0.9969177620083016, 0.9969689672303993, 0.9908427626649556, 0.9929115954377432, 0.9915247294104138, 0.9964106630268341, 0.8136817655291847, 0.18514914425214982, 0.990883889022895, 0.9959311449852586, 0.9972511474886947, 0.9879305317163365, 0.9900959432262594, 0.9930223665055283, 0.9961404397751743, 0.726053543430669, 0.27091550128010033, 0.9942361998309852, 0.9944406625375115, 0.9969138899741314, 0.9933212749990022, 0.9922653635117433, 0.9881856879098372, 0.9922016784467785, 0.9932502229824896, 0.9965915683801999, 0.3059823622765703, 0.6912934851433625, 0.9934828002877767, 0.9965983406055554, 0.6756868896370504, 0.3232812273694508, 0.9934846806130037, 0.9955959207819051, 0.7481580224069116, 0.24938600746897052, 0.9944882899954478, 0.37441277656807603, 0.6151067043618392, 0.008914589918287525, 0.6534868915291577, 0.3459636484566129, 0.9935205618859885, 0.9973013419532384, 0.9913624901242094, 0.9965349029593428, 0.9961562721319811, 0.9909552014885006, 0.9975167728305996, 0.9900589620397767, 0.3717561973767719, 0.6254251320573927, 0.9937929406940578, 0.9969122828229995, 0.9974542558107713, 0.9980588574578159, 0.9928122800994541, 0.9896924823047084, 0.11157793723553769, 0.5942173866729797, 0.2932164397119944, 0.9936296691981032, 0.9985289952883689, 0.16573784962182445, 0.8286892481091223, 0.9911880531795396, 0.9978886965790387, 0.9917268264588259, 0.716004558628266, 0.2827917164330126, 0.9902407803270469, 0.9966919806845949, 0.4998000492422752, 0.17187694001091816, 0.12212308895512607, 0.20580002027623095, 0.9930271498239476, 0.9878151092702356, 0.9894862867661889, 0.9972210073486397, 0.010544040024383252, 0.010544040024383252, 0.010544040024383252, 0.9805957222676425, 0.9863267971727179, 0.1662120886896709, 0.8310604434483545, 0.9979130786584333, 0.6476610263682896, 0.3532696507463398, 0.9890314103746389, 0.9962672112196068, 0.24627856165696463, 0.4166689618731204, 0.31071190627651935, 0.02577333784782188, 0.9921514306083016, 0.9914048245365943, 0.0059365558355484686, 0.9987607211111892, 0.9972394551775081, 0.9911303953967714, 0.993769093992923, 0.997757319151804, 0.9930073259596067, 0.9956950089241666, 0.9936127071064103, 0.9950658261597902, 0.9961992866476848, 0.9919599817719387, 0.9883677778442883, 0.4916073329701491, 0.26401134548396893, 0.11834991349281367, 0.12745375299226086, 0.9928305332217786, 0.9940646263032515, 0.9893386467180283, 0.9940597386517387, 0.9940383555063433, 0.9947283274813993, 0.9900910009312844, 0.009555573457027206, 0.9937796395308293, 0.9916372116677105, 0.992288422666968, 0.9886950927439212, 0.9973959307077295, 0.9953109461906543, 0.9946095793893854, 0.9909608716674942, 0.010208375527154229, 0.9902124261339602, 0.9981579151250883, 0.9969567168715003, 0.6459930044748076, 0.35375807387906133, 0.9940287974791236, 0.9938172612057338, 0.9906996079180138, 0.9937311565151337, 0.24769838911810563, 0.7492876270822696, 0.9924825008936056, 0.9937898570145771, 0.9908197314649827, 0.9953584106260984, 0.9979789176987711, 0.9978858249037411, 0.5275511571923336, 0.466859431143658, 0.5813426372342315, 0.4163670239650577, 0.9961465139938546, 0.9948609163709611, 0.2825301990571975, 0.7146352093799702, 0.9948478218931841, 0.9947674871483815, 0.9915502982443856, 0.9963602767077447], \"Term\": [\"abc\", \"accus\", \"appoint\", \"approv\", \"arm\", \"attack\", \"attack\", \"aussi\", \"australian\", \"back\", \"ban\", \"begin\", \"bid\", \"big\", \"blaze\", \"board\", \"bu\", \"busi\", \"call\", \"call\", \"car\", \"chang\", \"chang\", \"charg\", \"citi\", \"claim\", \"club\", \"coast\", \"collaps\", \"commun\", \"concern\", \"council\", \"countri\", \"court\", \"court\", \"crash\", \"crash\", \"cut\", \"day\", \"dead\", \"debat\", \"debt\", \"deni\", \"die\", \"disput\", \"doctor\", \"draw\", \"drought\", \"drug\", \"drug\", \"drum\", \"econom\", \"elect\", \"eye\", \"fail\", \"fall\", \"farmer\", \"fear\", \"fear\", \"figur\", \"final\", \"forc\", \"former\", \"found\", \"fourth\", \"friday\", \"full\", \"fund\", \"futur\", \"futur\", \"garrett\", \"govern\", \"govt\", \"govt\", \"great\", \"group\", \"health\", \"health\", \"held\", \"help\", \"help\", \"help\", \"hit\", \"hit\", \"hope\", \"hospit\", \"injuri\", \"interview\", \"iraq\", \"italian\", \"job\", \"judg\", \"kill\", \"kill\", \"labor\", \"latest\", \"lead\", \"leav\", \"line\", \"lock\", \"man\", \"man\", \"man\", \"market\", \"may\", \"melbourn\", \"melbourn\", \"men\", \"mine\", \"minist\", \"miss\", \"miss\", \"mp\", \"murder\", \"new\", \"new\", \"new\", \"new\", \"news\", \"next\", \"olymp\", \"open\", \"paint\", \"paint\", \"paint\", \"paint\", \"pakistan\", \"pay\", \"pay\", \"perth\", \"plan\", \"plan\", \"point\", \"pole\", \"polic\", \"polic\", \"polic\", \"polic\", \"pull\", \"qld\", \"qld\", \"question\", \"rate\", \"record\", \"reduc\", \"report\", \"resid\", \"review\", \"rise\", \"risk\", \"road\", \"run\", \"rural\", \"say\", \"say\", \"say\", \"say\", \"school\", \"search\", \"second\", \"seek\", \"set\", \"shoot\", \"sieg\", \"singapor\", \"singapor\", \"sold\", \"stage\", \"state\", \"station\", \"stori\", \"student\", \"success\", \"sunday\", \"sunday\", \"support\", \"sydney\", \"take\", \"take\", \"team\", \"telstra\", \"test\", \"titl\", \"trade\", \"trade\", \"train\", \"trial\", \"turnbul\", \"two\", \"union\", \"urg\", \"us\", \"us\", \"wa\", \"wa\", \"want\", \"warn\", \"water\", \"water\", \"win\", \"woman\", \"work\", \"world\"]}, \"R\": 30, \"lambda.step\": 0.01, \"plot.opts\": {\"xlab\": \"PC1\", \"ylab\": \"PC2\"}, \"topic.order\": [3, 2, 4, 1]};\n",
       "\n",
       "function LDAvis_load_lib(url, callback){\n",
       "  var s = document.createElement('script');\n",
       "  s.src = url;\n",
       "  s.async = true;\n",
       "  s.onreadystatechange = s.onload = callback;\n",
       "  s.onerror = function(){console.warn(\"failed to load library \" + url);};\n",
       "  document.getElementsByTagName(\"head\")[0].appendChild(s);\n",
       "}\n",
       "\n",
       "if(typeof(LDAvis) !== \"undefined\"){\n",
       "   // already loaded: just create the visualization\n",
       "   !function(LDAvis){\n",
       "       new LDAvis(\"#\" + \"ldavis_el2853626872414640648597890999\", ldavis_el2853626872414640648597890999_data);\n",
       "   }(LDAvis);\n",
       "}else if(typeof define === \"function\" && define.amd){\n",
       "   // require.js is available: use it to load d3/LDAvis\n",
       "   require.config({paths: {d3: \"https://d3js.org/d3.v5\"}});\n",
       "   require([\"d3\"], function(d3){\n",
       "      window.d3 = d3;\n",
       "      LDAvis_load_lib(\"https://cdn.jsdelivr.net/gh/bmabey/pyLDAvis@3.4.0/pyLDAvis/js/ldavis.v3.0.0.js\", function(){\n",
       "        new LDAvis(\"#\" + \"ldavis_el2853626872414640648597890999\", ldavis_el2853626872414640648597890999_data);\n",
       "      });\n",
       "    });\n",
       "}else{\n",
       "    // require.js not available: dynamically load d3 & LDAvis\n",
       "    LDAvis_load_lib(\"https://d3js.org/d3.v5.js\", function(){\n",
       "         LDAvis_load_lib(\"https://cdn.jsdelivr.net/gh/bmabey/pyLDAvis@3.4.0/pyLDAvis/js/ldavis.v3.0.0.js\", function(){\n",
       "                 new LDAvis(\"#\" + \"ldavis_el2853626872414640648597890999\", ldavis_el2853626872414640648597890999_data);\n",
       "            })\n",
       "         });\n",
       "}\n",
       "</script>"
      ],
      "text/plain": [
       "PreparedData(topic_coordinates=              x         y  topics  cluster       Freq\n",
       "topic                                                \n",
       "2     -0.228495 -0.028623       1        1  26.892488\n",
       "1     -0.149627 -0.010719       2        1  26.672673\n",
       "3      0.219569 -0.235701       3        1  23.916829\n",
       "0      0.158552  0.275042       4        1  22.518010, topic_info=          Term        Freq       Total Category  logprob  loglift\n",
       "1133    report  373.000000  373.000000  Default  30.0000  30.0000\n",
       "647   question  354.000000  354.000000  Default  29.0000  29.0000\n",
       "1043      mine  336.000000  336.000000  Default  28.0000  28.0000\n",
       "886     sydney  298.000000  298.000000  Default  27.0000  27.0000\n",
       "86       charg  284.000000  284.000000  Default  26.0000  26.0000\n",
       "...        ...         ...         ...      ...      ...      ...\n",
       "0        crash  156.634484  201.386509   Topic4  -4.9938   1.2395\n",
       "177       call  181.235846  366.816537   Topic4  -4.8479   0.7858\n",
       "688       kill  143.095150  228.644473   Topic4  -5.0842   1.0222\n",
       "139        man  112.855407  385.380847   Topic4  -5.3216   0.2627\n",
       "124         us  100.291653  214.197237   Topic4  -5.4396   0.7320\n",
       "\n",
       "[198 rows x 6 columns], token_table=      Topic      Freq     Term\n",
       "term                          \n",
       "496       4  0.991701      abc\n",
       "101       3  0.993048    accus\n",
       "833       3  0.990637  appoint\n",
       "68        1  0.998247   approv\n",
       "1411      3  0.990063      arm\n",
       "...     ...       ...      ...\n",
       "600       2  0.714635    water\n",
       "500       2  0.994848      win\n",
       "241       2  0.994767    woman\n",
       "279       4  0.991550     work\n",
       "151       2  0.996360    world\n",
       "\n",
       "[203 rows x 3 columns], R=30, lambda_step=0.01, plot_opts={'xlab': 'PC1', 'ylab': 'PC2'}, topic_order=[3, 2, 4, 1])"
      ]
     },
     "execution_count": 24,
     "metadata": {},
     "output_type": "execute_result"
    }
   ],
   "source": [
    "# TODO: show visualization results of the LDA\n",
    "import pyLDAvis\n",
    "import pyLDAvis.gensim\n",
    "pyLDAvis.enable_notebook()\n",
    "vis = pyLDAvis.gensim.prepare(lda, corpus, dictionary)\n",
    "vis"
   ]
  },
  {
   "cell_type": "markdown",
   "metadata": {},
   "source": [
    "Depending on your results, you can try to fine tune the algorithm: number of topics, hyperparameters...\n",
    "And check with others their results."
   ]
  }
 ],
 "metadata": {
  "kernelspec": {
   "display_name": "Python 3 (ipykernel)",
   "language": "python",
   "name": "python3"
  },
  "language_info": {
   "codemirror_mode": {
    "name": "ipython",
    "version": 3
   },
   "file_extension": ".py",
   "mimetype": "text/x-python",
   "name": "python",
   "nbconvert_exporter": "python",
   "pygments_lexer": "ipython3",
   "version": "3.9.13"
  },
  "toc": {
   "base_numbering": 1,
   "nav_menu": {},
   "number_sections": true,
   "sideBar": true,
   "skip_h1_title": false,
   "title_cell": "Table of Contents",
   "title_sidebar": "Contents",
   "toc_cell": false,
   "toc_position": {},
   "toc_section_display": true,
   "toc_window_display": false
  }
 },
 "nbformat": 4,
 "nbformat_minor": 2
}
