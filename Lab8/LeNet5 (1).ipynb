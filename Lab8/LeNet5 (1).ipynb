{
  "cells": [
    {
      "cell_type": "markdown",
      "metadata": {
        "id": "EDbJWoO1yO8e"
      },
      "source": [
        "# Image Classification with CNN - LeNet5 architecture"
      ]
    },
    {
      "cell_type": "markdown",
      "metadata": {
        "id": "JzQxqD6HyO8i"
      },
      "source": [
        "In this exercise, we will apply the LeNet5 algorithm to the Fashion MNIST dataset and improve your performances."
      ]
    },
    {
      "cell_type": "markdown",
      "metadata": {
        "id": "XFyVotRvyO8j"
      },
      "source": [
        "We will first download the data:"
      ]
    },
    {
      "cell_type": "code",
      "execution_count": null,
      "metadata": {
        "colab": {
          "base_uri": "https://localhost:8080/"
        },
        "id": "RTHLyL1fyO8j",
        "outputId": "f615eaa6-f41d-4a46-f82f-50e087944c1d",
        "scrolled": true
      },
      "outputs": [
        {
          "name": "stdout",
          "output_type": "stream",
          "text": [
            "Downloading data from https://storage.googleapis.com/tensorflow/tf-keras-datasets/train-labels-idx1-ubyte.gz\n",
            "29515/29515 [==============================] - 0s 1us/step\n",
            "Downloading data from https://storage.googleapis.com/tensorflow/tf-keras-datasets/train-images-idx3-ubyte.gz\n",
            "26421880/26421880 [==============================] - 2s 0us/step\n",
            "Downloading data from https://storage.googleapis.com/tensorflow/tf-keras-datasets/t10k-labels-idx1-ubyte.gz\n",
            "5148/5148 [==============================] - 0s 0us/step\n",
            "Downloading data from https://storage.googleapis.com/tensorflow/tf-keras-datasets/t10k-images-idx3-ubyte.gz\n",
            "4422102/4422102 [==============================] - 1s 0us/step\n"
          ]
        },
        {
          "data": {
            "text/plain": [
              "(60000, 28, 28)"
            ]
          },
          "execution_count": 1,
          "metadata": {},
          "output_type": "execute_result"
        }
      ],
      "source": [
        "# TODO: Load the dataset\n",
        "from tensorflow.keras.datasets import fashion_mnist\n",
        "\n",
        "(X_train, y_train), (X_test, y_test) = fashion_mnist.load_data()\n",
        "\n",
        "# # # If your computer is slow, try to use a subset of data, e.g.\n",
        "# X_train = X_train[:10000]\n",
        "# y_train = y_train[:10000]\n",
        "# X_test = X_test[:2000]\n",
        "# y_test = y_test[:2000]\n",
        "X_train.shape"
      ]
    },
    {
      "cell_type": "markdown",
      "metadata": {
        "id": "c8ShXIANyO8l"
      },
      "source": [
        "As you already know, this dataset contains 10 classes:\n",
        "* 0:\tT-shirt/top\n",
        "* 1:\tTrouser\n",
        "* 2:\tPullover\n",
        "* 3:\tDress\n",
        "* 4:\tCoat\n",
        "* 5:\tSandal\n",
        "* 6:\tShirt\n",
        "* 7:\tSneaker\n",
        "* 8:\tBag\n",
        "* 9:\tAnkle boot"
      ]
    },
    {
      "cell_type": "markdown",
      "metadata": {
        "id": "_BvNG0PbyO8l"
      },
      "source": [
        "You can have a look at some images if needed, even if you already know them."
      ]
    },
    {
      "cell_type": "code",
      "execution_count": null,
      "metadata": {
        "colab": {
          "base_uri": "https://localhost:8080/",
          "height": 452
        },
        "id": "lnjqgv-GyO8m",
        "outputId": "5b7db75f-11b2-4eea-9862-ddccac9beb3a",
        "scrolled": true
      },
      "outputs": [
        {
          "data": {
            "image/png": "[encoded data removed]",
            "text/plain": [
              "<Figure size 640x480 with 1 Axes>"
            ]
          },
          "metadata": {},
          "output_type": "display_data"
        }
      ],
      "source": [
        "# TODO: Explore the data, display some input images\n",
        "%matplotlib inline\n",
        "import matplotlib.pyplot as plt\n",
        "import numpy as np\n",
        "\n",
        "label_class = ['top', 'trouser', 'pullover', 'dress', 'coat', 'sandal', 'shirt', 'sneaker', 'bag', 'ankle boot']\n",
        "\n",
        "idx = np.random.randint(X_train.shape[0])\n",
        "\n",
        "plt.imshow(X_train[idx],cmap=\"gray\")\n",
        "plt.title(label_class[y_train[idx]])\n",
        "plt.show()"
      ]
    },
    {
      "cell_type": "markdown",
      "metadata": {
        "id": "AdYH6XW1yO8n"
      },
      "source": [
        "Make the data preparation and preprocessing: scale and reshape the data, put the labels to the good shape."
      ]
    },
    {
      "cell_type": "code",
      "execution_count": null,
      "metadata": {
        "colab": {
          "base_uri": "https://localhost:8080/"
        },
        "id": "fjv8XMPByO8o",
        "outputId": "bc350e04-c89d-485c-bce3-aa60856da4b6"
      },
      "outputs": [
        {
          "data": {
            "text/plain": [
              "(60000, 28, 28, 1)"
            ]
          },
          "execution_count": 6,
          "metadata": {},
          "output_type": "execute_result"
        }
      ],
      "source": [
        "# TODO: Make the data preparation\n",
        "from tensorflow.keras.utils import to_categorical\n",
        "\n",
        "y_train_cat = to_categorical(y_train,num_classes=10)\n",
        "y_test_cat = to_categorical(y_test,num_classes=10)\n",
        "\n",
        "X_train_norm = X_train/255\n",
        "X_test_norm = X_test/255\n",
        "\n",
        "\n",
        "X_train_norm = X_train_norm.reshape(X_train_norm.shape[0], 28, 28, 1)\n",
        "X_test_norm =  X_test_norm.reshape(X_test_norm.shape[0], 28, 28, 1)\n",
        "\n",
        "X_train_norm.shape #Should be (60000, 28, 28, 1)"
      ]
    },
    {
      "cell_type": "markdown",
      "metadata": {
        "id": "y9LKzxR9yO8o"
      },
      "source": [
        "Now build the LeNet5 architecture. You can reuse the one of the course, or try to build it by yourself.\n",
        "\n",
        "The architecture is the following:\n",
        "\n",
        "<p align=\"center\">\n",
        "<img src=\"https://drive.google.com/uc?export=view&id=1WteTU2FPIVMkBKmMxGpFm5OjsX-szTbB\">\n",
        "</p>"
      ]
    },
    {
      "cell_type": "code",
      "execution_count": null,
      "metadata": {
        "colab": {
          "base_uri": "https://localhost:8080/"
        },
        "id": "GKyMFlL6yO8o",
        "outputId": "7d95bf79-9a88-4a6d-8387-9d163aa389c8"
      },
      "outputs": [
        {
          "name": "stdout",
          "output_type": "stream",
          "text": [
            "Model: \"sequential\"\n",
            "_________________________________________________________________\n",
            " Layer (type)                Output Shape              Param #   \n",
            "=================================================================\n",
            " C1 (Conv2D)                 (None, 26, 26, 6)         60        \n",
            "                                                                 \n",
            " S2 (MaxPooling2D)           (None, 13, 13, 6)         0         \n",
            "                                                                 \n",
            " C3 (Conv2D)                 (None, 11, 11, 16)        880       \n",
            "                                                                 \n",
            " S4 (MaxPooling2D)           (None, 5, 5, 16)          0         \n",
            "                                                                 \n",
            " flatten (Flatten)           (None, 400)               0         \n",
            "                                                                 \n",
            " C5 (Dense)                  (None, 120)               48120     \n",
            "                                                                 \n",
            " F6 (Dense)                  (None, 84)                10164     \n",
            "                                                                 \n",
            " dense (Dense)               (None, 10)                850       \n",
            "                                                                 \n",
            "=================================================================\n",
            "Total params: 60,074\n",
            "Trainable params: 60,074\n",
            "Non-trainable params: 0\n",
            "_________________________________________________________________\n"
          ]
        }
      ],
      "source": [
        "# TODO: Build your model\n",
        "from tensorflow.keras.models import Sequential\n",
        "from tensorflow.keras.layers import MaxPooling2D, Conv2D, Flatten, Dense\n",
        "\n",
        "\n",
        "def lenet5():\n",
        "    \n",
        "    model = Sequential()\n",
        "\n",
        "    # Layer C1\n",
        "    model.add(Conv2D(filters=6, name='C1', kernel_size=(3, 3), activation='relu', input_shape=(28,28,1)))\n",
        "    # Layer S2\n",
        "    model.add(MaxPooling2D(pool_size=(2, 2), name='S2'))\n",
        "    # Layer C3\n",
        "    model.add(Conv2D(filters=16, name='C3', kernel_size=(3, 3), activation='relu'))\n",
        "    # Layer S4\n",
        "    model.add(MaxPooling2D(pool_size=(2, 2), name='S4'))\n",
        "    # Before going into layer C5, we flatten our units\n",
        "    model.add(Flatten())\n",
        "    # Layer C5\n",
        "    model.add(Dense(units=120, name='C5', activation='relu'))\n",
        "    # Layer F6\n",
        "    model.add(Dense(units=84, name='F6', activation='relu'))\n",
        "    # Output layer\n",
        "    model.add(Dense(units=10, activation = 'softmax'))\n",
        "    \n",
        "    return model\n",
        "lenet5().summary()"
      ]
    },
    {
      "cell_type": "markdown",
      "metadata": {
        "id": "i1qBEauqyO8p"
      },
      "source": [
        "Now compile and fit your model on your training data. Since this is a multiclass classification, the loss is not `binary_crossentropy` anymore, but `categorical_crossentropy`."
      ]
    },
    {
      "cell_type": "code",
      "execution_count": null,
      "metadata": {
        "colab": {
          "base_uri": "https://localhost:8080/"
        },
        "id": "nPL3aKnyyO8p",
        "outputId": "cd9ce3a1-064a-483c-950b-5f8fcc250fdd",
        "scrolled": true
      },
      "outputs": [
        {
          "name": "stdout",
          "output_type": "stream",
          "text": [
            "Epoch 1/100\n",
            "30/30 [==============================] - 3s 23ms/step - loss: 1.6441 - accuracy: 0.4900 - val_loss: 0.9085 - val_accuracy: 0.6771\n",
            "Epoch 2/100\n",
            "30/30 [==============================] - 0s 13ms/step - loss: 0.7562 - accuracy: 0.7225 - val_loss: 0.6989 - val_accuracy: 0.7404\n",
            "Epoch 3/100\n",
            "30/30 [==============================] - 0s 12ms/step - loss: 0.6242 - accuracy: 0.7655 - val_loss: 0.6014 - val_accuracy: 0.7707\n",
            "Epoch 4/100\n",
            "30/30 [==============================] - 0s 11ms/step - loss: 0.5574 - accuracy: 0.7907 - val_loss: 0.5512 - val_accuracy: 0.7922\n",
            "Epoch 5/100\n",
            "30/30 [==============================] - 0s 13ms/step - loss: 0.5164 - accuracy: 0.8079 - val_loss: 0.5150 - val_accuracy: 0.8048\n",
            "Epoch 6/100\n",
            "30/30 [==============================] - 0s 13ms/step - loss: 0.4858 - accuracy: 0.8190 - val_loss: 0.4980 - val_accuracy: 0.8133\n",
            "Epoch 7/100\n",
            "30/30 [==============================] - 0s 13ms/step - loss: 0.4612 - accuracy: 0.8310 - val_loss: 0.4771 - val_accuracy: 0.8244\n",
            "Epoch 8/100\n",
            "30/30 [==============================] - 0s 12ms/step - loss: 0.4458 - accuracy: 0.8373 - val_loss: 0.4638 - val_accuracy: 0.8277\n",
            "Epoch 9/100\n",
            "30/30 [==============================] - 0s 12ms/step - loss: 0.4331 - accuracy: 0.8411 - val_loss: 0.4436 - val_accuracy: 0.8396\n",
            "Epoch 10/100\n",
            "30/30 [==============================] - 0s 12ms/step - loss: 0.4146 - accuracy: 0.8505 - val_loss: 0.4365 - val_accuracy: 0.8439\n",
            "Epoch 11/100\n",
            "30/30 [==============================] - 0s 12ms/step - loss: 0.4074 - accuracy: 0.8527 - val_loss: 0.4248 - val_accuracy: 0.8483\n",
            "Epoch 12/100\n",
            "30/30 [==============================] - 0s 12ms/step - loss: 0.3982 - accuracy: 0.8567 - val_loss: 0.4236 - val_accuracy: 0.8483\n",
            "Epoch 13/100\n",
            "30/30 [==============================] - 0s 14ms/step - loss: 0.3886 - accuracy: 0.8604 - val_loss: 0.4215 - val_accuracy: 0.8463\n",
            "Epoch 14/100\n",
            "30/30 [==============================] - 0s 12ms/step - loss: 0.3817 - accuracy: 0.8633 - val_loss: 0.4073 - val_accuracy: 0.8543\n",
            "Epoch 15/100\n",
            "30/30 [==============================] - 0s 11ms/step - loss: 0.3738 - accuracy: 0.8658 - val_loss: 0.3987 - val_accuracy: 0.8580\n",
            "Epoch 16/100\n",
            "30/30 [==============================] - 0s 12ms/step - loss: 0.3673 - accuracy: 0.8687 - val_loss: 0.3958 - val_accuracy: 0.8583\n",
            "Epoch 17/100\n",
            "30/30 [==============================] - 0s 12ms/step - loss: 0.3592 - accuracy: 0.8722 - val_loss: 0.3941 - val_accuracy: 0.8568\n",
            "Epoch 18/100\n",
            "30/30 [==============================] - 0s 12ms/step - loss: 0.3578 - accuracy: 0.8712 - val_loss: 0.3847 - val_accuracy: 0.8630\n",
            "Epoch 19/100\n",
            "30/30 [==============================] - 0s 13ms/step - loss: 0.3523 - accuracy: 0.8732 - val_loss: 0.3804 - val_accuracy: 0.8631\n",
            "Epoch 20/100\n",
            "30/30 [==============================] - 0s 13ms/step - loss: 0.3464 - accuracy: 0.8757 - val_loss: 0.3769 - val_accuracy: 0.8650\n",
            "Epoch 21/100\n",
            "30/30 [==============================] - 0s 12ms/step - loss: 0.3441 - accuracy: 0.8759 - val_loss: 0.3811 - val_accuracy: 0.8617\n",
            "Epoch 22/100\n",
            "30/30 [==============================] - 0s 13ms/step - loss: 0.3374 - accuracy: 0.8784 - val_loss: 0.3701 - val_accuracy: 0.8665\n",
            "Epoch 23/100\n",
            "30/30 [==============================] - 0s 13ms/step - loss: 0.3333 - accuracy: 0.8798 - val_loss: 0.3695 - val_accuracy: 0.8678\n",
            "Epoch 24/100\n",
            "30/30 [==============================] - 0s 12ms/step - loss: 0.3290 - accuracy: 0.8811 - val_loss: 0.3586 - val_accuracy: 0.8705\n",
            "Epoch 25/100\n",
            "30/30 [==============================] - 0s 12ms/step - loss: 0.3282 - accuracy: 0.8815 - val_loss: 0.3598 - val_accuracy: 0.8696\n",
            "Epoch 26/100\n",
            "30/30 [==============================] - 0s 11ms/step - loss: 0.3238 - accuracy: 0.8826 - val_loss: 0.3759 - val_accuracy: 0.8632\n",
            "Epoch 27/100\n",
            "30/30 [==============================] - 0s 14ms/step - loss: 0.3223 - accuracy: 0.8834 - val_loss: 0.3582 - val_accuracy: 0.8707\n",
            "Epoch 28/100\n",
            "30/30 [==============================] - 0s 15ms/step - loss: 0.3181 - accuracy: 0.8853 - val_loss: 0.3816 - val_accuracy: 0.8601\n",
            "Epoch 29/100\n",
            "30/30 [==============================] - 0s 14ms/step - loss: 0.3164 - accuracy: 0.8850 - val_loss: 0.3596 - val_accuracy: 0.8665\n",
            "Epoch 30/100\n",
            "30/30 [==============================] - 0s 14ms/step - loss: 0.3103 - accuracy: 0.8887 - val_loss: 0.3450 - val_accuracy: 0.8773\n",
            "Epoch 31/100\n",
            "30/30 [==============================] - 0s 15ms/step - loss: 0.3093 - accuracy: 0.8881 - val_loss: 0.3447 - val_accuracy: 0.8749\n",
            "Epoch 32/100\n",
            "30/30 [==============================] - 0s 15ms/step - loss: 0.3053 - accuracy: 0.8888 - val_loss: 0.3430 - val_accuracy: 0.8764\n",
            "Epoch 33/100\n",
            "30/30 [==============================] - 0s 13ms/step - loss: 0.2998 - accuracy: 0.8924 - val_loss: 0.3396 - val_accuracy: 0.8767\n",
            "Epoch 34/100\n",
            "30/30 [==============================] - 0s 12ms/step - loss: 0.2990 - accuracy: 0.8921 - val_loss: 0.3412 - val_accuracy: 0.8766\n",
            "Epoch 35/100\n",
            "30/30 [==============================] - 0s 12ms/step - loss: 0.2967 - accuracy: 0.8935 - val_loss: 0.3342 - val_accuracy: 0.8802\n",
            "Epoch 36/100\n",
            "30/30 [==============================] - 0s 12ms/step - loss: 0.2949 - accuracy: 0.8931 - val_loss: 0.3381 - val_accuracy: 0.8790\n",
            "Epoch 37/100\n",
            "30/30 [==============================] - 0s 12ms/step - loss: 0.2906 - accuracy: 0.8952 - val_loss: 0.3391 - val_accuracy: 0.8799\n",
            "Epoch 38/100\n",
            "30/30 [==============================] - 0s 12ms/step - loss: 0.2973 - accuracy: 0.8910 - val_loss: 0.3439 - val_accuracy: 0.8766\n",
            "Epoch 39/100\n",
            "30/30 [==============================] - 0s 12ms/step - loss: 0.2914 - accuracy: 0.8949 - val_loss: 0.3298 - val_accuracy: 0.8797\n",
            "Epoch 40/100\n",
            "30/30 [==============================] - 0s 12ms/step - loss: 0.2848 - accuracy: 0.8972 - val_loss: 0.3301 - val_accuracy: 0.8791\n",
            "Epoch 41/100\n",
            "30/30 [==============================] - 0s 13ms/step - loss: 0.2819 - accuracy: 0.8973 - val_loss: 0.3270 - val_accuracy: 0.8815\n",
            "Epoch 42/100\n",
            "30/30 [==============================] - 0s 12ms/step - loss: 0.2803 - accuracy: 0.8992 - val_loss: 0.3460 - val_accuracy: 0.8738\n",
            "Epoch 43/100\n",
            "30/30 [==============================] - 0s 12ms/step - loss: 0.2810 - accuracy: 0.8981 - val_loss: 0.3243 - val_accuracy: 0.8805\n",
            "Epoch 44/100\n",
            "30/30 [==============================] - 0s 12ms/step - loss: 0.2750 - accuracy: 0.9003 - val_loss: 0.3284 - val_accuracy: 0.8805\n",
            "Epoch 45/100\n",
            "30/30 [==============================] - 0s 12ms/step - loss: 0.2756 - accuracy: 0.9002 - val_loss: 0.3233 - val_accuracy: 0.8844\n",
            "Epoch 46/100\n",
            "30/30 [==============================] - 0s 13ms/step - loss: 0.2721 - accuracy: 0.9013 - val_loss: 0.3220 - val_accuracy: 0.8852\n",
            "Epoch 47/100\n",
            "30/30 [==============================] - 0s 13ms/step - loss: 0.2723 - accuracy: 0.9013 - val_loss: 0.3224 - val_accuracy: 0.8851\n",
            "Epoch 48/100\n",
            "30/30 [==============================] - 0s 13ms/step - loss: 0.2724 - accuracy: 0.9008 - val_loss: 0.3184 - val_accuracy: 0.8854\n",
            "Epoch 49/100\n",
            "30/30 [==============================] - 0s 13ms/step - loss: 0.2696 - accuracy: 0.9024 - val_loss: 0.3265 - val_accuracy: 0.8809\n",
            "Epoch 50/100\n",
            "30/30 [==============================] - 0s 13ms/step - loss: 0.2680 - accuracy: 0.9021 - val_loss: 0.3173 - val_accuracy: 0.8849\n",
            "Epoch 51/100\n",
            "30/30 [==============================] - 0s 13ms/step - loss: 0.2638 - accuracy: 0.9035 - val_loss: 0.3187 - val_accuracy: 0.8873\n",
            "Epoch 52/100\n",
            "30/30 [==============================] - 0s 13ms/step - loss: 0.2669 - accuracy: 0.9027 - val_loss: 0.3131 - val_accuracy: 0.8866\n",
            "Epoch 53/100\n",
            "30/30 [==============================] - 0s 13ms/step - loss: 0.2698 - accuracy: 0.9010 - val_loss: 0.3211 - val_accuracy: 0.8838\n",
            "Epoch 54/100\n",
            "30/30 [==============================] - 0s 12ms/step - loss: 0.2661 - accuracy: 0.9023 - val_loss: 0.3133 - val_accuracy: 0.8859\n",
            "Epoch 55/100\n",
            "30/30 [==============================] - 0s 13ms/step - loss: 0.2550 - accuracy: 0.9078 - val_loss: 0.3131 - val_accuracy: 0.8852\n",
            "Epoch 56/100\n",
            "30/30 [==============================] - 0s 12ms/step - loss: 0.2616 - accuracy: 0.9050 - val_loss: 0.3111 - val_accuracy: 0.8882\n",
            "Epoch 57/100\n",
            "30/30 [==============================] - 0s 13ms/step - loss: 0.2595 - accuracy: 0.9050 - val_loss: 0.3237 - val_accuracy: 0.8822\n",
            "Epoch 58/100\n",
            "30/30 [==============================] - 0s 12ms/step - loss: 0.2563 - accuracy: 0.9063 - val_loss: 0.3122 - val_accuracy: 0.8873\n",
            "Epoch 59/100\n",
            "30/30 [==============================] - 0s 13ms/step - loss: 0.2518 - accuracy: 0.9081 - val_loss: 0.3200 - val_accuracy: 0.8833\n",
            "Epoch 60/100\n",
            "30/30 [==============================] - 0s 16ms/step - loss: 0.2534 - accuracy: 0.9077 - val_loss: 0.3209 - val_accuracy: 0.8854\n",
            "Epoch 61/100\n",
            "30/30 [==============================] - 0s 16ms/step - loss: 0.2511 - accuracy: 0.9087 - val_loss: 0.3149 - val_accuracy: 0.8880\n",
            "Epoch 62/100\n",
            "30/30 [==============================] - 0s 14ms/step - loss: 0.2484 - accuracy: 0.9091 - val_loss: 0.3084 - val_accuracy: 0.8893\n",
            "Epoch 63/100\n",
            "30/30 [==============================] - 0s 15ms/step - loss: 0.2491 - accuracy: 0.9085 - val_loss: 0.3044 - val_accuracy: 0.8916\n",
            "Epoch 64/100\n",
            "30/30 [==============================] - 0s 16ms/step - loss: 0.2456 - accuracy: 0.9107 - val_loss: 0.3174 - val_accuracy: 0.8868\n",
            "Epoch 65/100\n",
            "30/30 [==============================] - 0s 14ms/step - loss: 0.2454 - accuracy: 0.9107 - val_loss: 0.3120 - val_accuracy: 0.8867\n",
            "Epoch 66/100\n",
            "30/30 [==============================] - 0s 13ms/step - loss: 0.2423 - accuracy: 0.9115 - val_loss: 0.3074 - val_accuracy: 0.8905\n",
            "Epoch 67/100\n",
            "30/30 [==============================] - 0s 13ms/step - loss: 0.2405 - accuracy: 0.9125 - val_loss: 0.3033 - val_accuracy: 0.8904\n",
            "Epoch 68/100\n",
            "30/30 [==============================] - 0s 12ms/step - loss: 0.2393 - accuracy: 0.9118 - val_loss: 0.3054 - val_accuracy: 0.8914\n",
            "Epoch 69/100\n",
            "30/30 [==============================] - 0s 13ms/step - loss: 0.2397 - accuracy: 0.9131 - val_loss: 0.3090 - val_accuracy: 0.8895\n",
            "Epoch 70/100\n",
            "30/30 [==============================] - 0s 12ms/step - loss: 0.2399 - accuracy: 0.9118 - val_loss: 0.3165 - val_accuracy: 0.8846\n",
            "Epoch 71/100\n",
            "30/30 [==============================] - 0s 12ms/step - loss: 0.2416 - accuracy: 0.9122 - val_loss: 0.3048 - val_accuracy: 0.8888\n",
            "Epoch 72/100\n",
            "30/30 [==============================] - 0s 14ms/step - loss: 0.2341 - accuracy: 0.9146 - val_loss: 0.3132 - val_accuracy: 0.8888\n",
            "Epoch 73/100\n",
            "30/30 [==============================] - 0s 13ms/step - loss: 0.2387 - accuracy: 0.9130 - val_loss: 0.3052 - val_accuracy: 0.8914\n",
            "Epoch 74/100\n",
            "30/30 [==============================] - 0s 12ms/step - loss: 0.2327 - accuracy: 0.9150 - val_loss: 0.3013 - val_accuracy: 0.8926\n",
            "Epoch 75/100\n",
            "30/30 [==============================] - 0s 12ms/step - loss: 0.2317 - accuracy: 0.9155 - val_loss: 0.3032 - val_accuracy: 0.8921\n",
            "Epoch 76/100\n",
            "30/30 [==============================] - 0s 13ms/step - loss: 0.2306 - accuracy: 0.9162 - val_loss: 0.3059 - val_accuracy: 0.8890\n",
            "Epoch 77/100\n",
            "30/30 [==============================] - 0s 13ms/step - loss: 0.2286 - accuracy: 0.9170 - val_loss: 0.3025 - val_accuracy: 0.8913\n",
            "Epoch 78/100\n",
            "30/30 [==============================] - 0s 12ms/step - loss: 0.2272 - accuracy: 0.9169 - val_loss: 0.3139 - val_accuracy: 0.8882\n",
            "Epoch 79/100\n",
            "30/30 [==============================] - 0s 13ms/step - loss: 0.2293 - accuracy: 0.9163 - val_loss: 0.3057 - val_accuracy: 0.8896\n",
            "Epoch 80/100\n",
            "30/30 [==============================] - 0s 12ms/step - loss: 0.2258 - accuracy: 0.9166 - val_loss: 0.3033 - val_accuracy: 0.8916\n",
            "Epoch 81/100\n",
            "30/30 [==============================] - 0s 12ms/step - loss: 0.2268 - accuracy: 0.9174 - val_loss: 0.3080 - val_accuracy: 0.8899\n",
            "Epoch 82/100\n",
            "30/30 [==============================] - 0s 12ms/step - loss: 0.2223 - accuracy: 0.9190 - val_loss: 0.2997 - val_accuracy: 0.8927\n",
            "Epoch 83/100\n",
            "30/30 [==============================] - 0s 12ms/step - loss: 0.2222 - accuracy: 0.9187 - val_loss: 0.3280 - val_accuracy: 0.8813\n",
            "Epoch 84/100\n",
            "30/30 [==============================] - 0s 12ms/step - loss: 0.2235 - accuracy: 0.9180 - val_loss: 0.3015 - val_accuracy: 0.8936\n",
            "Epoch 85/100\n",
            "30/30 [==============================] - 0s 13ms/step - loss: 0.2182 - accuracy: 0.9205 - val_loss: 0.3061 - val_accuracy: 0.8891\n",
            "Epoch 86/100\n",
            "30/30 [==============================] - 0s 13ms/step - loss: 0.2219 - accuracy: 0.9182 - val_loss: 0.2992 - val_accuracy: 0.8922\n",
            "Epoch 87/100\n",
            "30/30 [==============================] - 0s 13ms/step - loss: 0.2191 - accuracy: 0.9198 - val_loss: 0.2979 - val_accuracy: 0.8940\n",
            "Epoch 88/100\n",
            "30/30 [==============================] - 0s 13ms/step - loss: 0.2153 - accuracy: 0.9208 - val_loss: 0.3245 - val_accuracy: 0.8860\n",
            "Epoch 89/100\n",
            "30/30 [==============================] - 0s 13ms/step - loss: 0.2181 - accuracy: 0.9198 - val_loss: 0.2990 - val_accuracy: 0.8910\n",
            "Epoch 90/100\n",
            "30/30 [==============================] - 0s 13ms/step - loss: 0.2163 - accuracy: 0.9208 - val_loss: 0.3032 - val_accuracy: 0.8922\n",
            "Epoch 91/100\n",
            "30/30 [==============================] - 0s 11ms/step - loss: 0.2167 - accuracy: 0.9204 - val_loss: 0.3028 - val_accuracy: 0.8928\n",
            "Epoch 92/100\n",
            "30/30 [==============================] - 0s 16ms/step - loss: 0.2149 - accuracy: 0.9217 - val_loss: 0.3014 - val_accuracy: 0.8916\n",
            "Epoch 93/100\n",
            "30/30 [==============================] - 0s 15ms/step - loss: 0.2121 - accuracy: 0.9224 - val_loss: 0.3046 - val_accuracy: 0.8916\n",
            "Epoch 94/100\n",
            "30/30 [==============================] - 0s 15ms/step - loss: 0.2105 - accuracy: 0.9223 - val_loss: 0.2960 - val_accuracy: 0.8941\n",
            "Epoch 95/100\n",
            "30/30 [==============================] - 0s 16ms/step - loss: 0.2112 - accuracy: 0.9225 - val_loss: 0.3107 - val_accuracy: 0.8870\n",
            "Epoch 96/100\n",
            "30/30 [==============================] - 0s 15ms/step - loss: 0.2085 - accuracy: 0.9233 - val_loss: 0.3014 - val_accuracy: 0.8928\n",
            "Epoch 97/100\n",
            "30/30 [==============================] - 0s 14ms/step - loss: 0.2053 - accuracy: 0.9247 - val_loss: 0.2972 - val_accuracy: 0.8932\n",
            "Epoch 98/100\n",
            "30/30 [==============================] - 0s 12ms/step - loss: 0.2050 - accuracy: 0.9251 - val_loss: 0.3046 - val_accuracy: 0.8931\n",
            "Epoch 99/100\n",
            "30/30 [==============================] - 0s 12ms/step - loss: 0.2026 - accuracy: 0.9257 - val_loss: 0.2955 - val_accuracy: 0.8965\n",
            "Epoch 100/100\n",
            "30/30 [==============================] - 0s 12ms/step - loss: 0.2051 - accuracy: 0.9251 - val_loss: 0.2962 - val_accuracy: 0.8936\n"
          ]
        },
        {
          "data": {
            "text/plain": [
              "<keras.callbacks.History at 0x7fdd118923b0>"
            ]
          },
          "execution_count": 10,
          "metadata": {},
          "output_type": "execute_result"
        }
      ],
      "source": [
        "# TODO: Compile and fit your model\n",
        "import os\n",
        "\n",
        "# os.environ['KMP_DUPLICATE_LIB_OK']='True' #https://stackoverflow.com/questions/53014306/error-15-initializing-libiomp5-dylib-but-found-libiomp5-dylib-already-initial\n",
        "\n",
        "\n",
        "from tensorflow.keras.callbacks import EarlyStopping\n",
        "from tensorflow.keras.callbacks import TensorBoard\n",
        "\n",
        "model = lenet5()\n",
        "\n",
        "model.compile(optimizer='adam', loss='categorical_crossentropy',metrics=[\"accuracy\"])\n",
        "\n",
        "# Define now our callbacks\n",
        "# callbacks = [EarlyStopping(monitor='val_loss', patience=10), TensorBoard(log_dir='./keras-logs', histogram_freq=0, write_graph=True, write_images=True)]\n",
        "callbacks = [EarlyStopping(monitor='val_loss', patience=10)]\n",
        "\n",
        "# Finally fit the model\n",
        "model.fit(x=X_train_norm, y=y_train_cat, validation_data=(X_test_norm, y_test_cat), epochs=100, batch_size=2048, callbacks=callbacks)"
      ]
    },
    {
      "cell_type": "markdown",
      "metadata": {
        "id": "Rf-SqjjOyO8q"
      },
      "source": [
        "Have a look at the tensorboard and see if it gives a deeper understanding of your model."
      ]
    },
    {
      "cell_type": "markdown",
      "metadata": {
        "id": "k2FTj7TSyO8q"
      },
      "source": [
        "Compute then the accuracy of your model. Is it better than a regular MLP used before?"
      ]
    },
    {
      "cell_type": "code",
      "execution_count": null,
      "metadata": {
        "colab": {
          "base_uri": "https://localhost:8080/"
        },
        "id": "rPjJoMQZyO8q",
        "outputId": "dadb2170-9870-4912-9f0d-a1e23b6ca842"
      },
      "outputs": [
        {
          "name": "stdout",
          "output_type": "stream",
          "text": [
            "59/59 [==============================] - 0s 3ms/step\n",
            "10/10 [==============================] - 0s 3ms/step\n",
            "accuracy on train with CNN: 0.9281666666666667\n",
            "accuracy on test with CNN: 0.8936\n"
          ]
        }
      ],
      "source": [
        "# TODO: Compute the accuracy of your model\n",
        "from sklearn.metrics import accuracy_score\n",
        "\n",
        "batch_size = 1024\n",
        "y_pred_train = to_categorical(model.predict(X_train_norm,batch_size=batch_size).argmax(axis=1), num_classes=10)\n",
        "y_pred_test = to_categorical(model.predict(X_test_norm,batch_size=batch_size).argmax(axis=1), num_classes=10)\n",
        "\n",
        "print('accuracy on train with CNN:', accuracy_score(y_pred_train, y_train_cat))\n",
        "print('accuracy on test with CNN:', accuracy_score(y_pred_test, y_test_cat))"
      ]
    },
    {
      "cell_type": "markdown",
      "metadata": {
        "id": "1vulsgHiyO8q"
      },
      "source": [
        "We will now add image augmentation to improve our results, especially we will try to reduce overfitting this way.\n",
        "\n",
        "To do so, you can use `ImageDataGenerator` from Keras that makes all the work for you (including rescaling), with the following parameter: \n",
        "* `horizontal_flip=True`\n",
        "\n",
        "For more info about how the `ImageDataGenerator` works, you can check out [this article](https://www.pyimagesearch.com/2019/07/08/keras-imagedatagenerator-and-data-augmentation/).\n",
        "\n",
        "Begin by creating an object `ImageDataGenerator` with this parameter."
      ]
    },
    {
      "cell_type": "code",
      "execution_count": null,
      "metadata": {
        "colab": {
          "background_save": true
        },
        "id": "pas-fMSIyO8q"
      },
      "outputs": [],
      "source": [
        "# TODO: Instantiate an ImageDataGenerator object\n",
        "from tensorflow.keras.preprocessing.image import ImageDataGenerator\n",
        "\n",
        "datagen = ImageDataGenerator()"
      ]
    },
    {
      "cell_type": "markdown",
      "metadata": {
        "id": "k7nCnu9syO8r"
      },
      "source": [
        "Finally, you can train your model using this generator, with the method `fit_generator` of your model and the method `flow` of your `ImageDataGenerator`."
      ]
    },
    {
      "cell_type": "markdown",
      "metadata": {
        "id": "NuzFke8pyO8r"
      },
      "source": [
        "Recompute the accuracy of your model, does it improve your performances with data augmentation?"
      ]
    },
    {
      "cell_type": "code",
      "execution_count": null,
      "metadata": {
        "colab": {
          "base_uri": "https://localhost:8080/"
        },
        "id": "Zt6wXa3IyO8r",
        "outputId": "aa6078bb-d14e-4c98-97d0-49cdec4785f2",
        "scrolled": true
      },
      "outputs": [
        {
          "name": "stdout",
          "output_type": "stream",
          "text": [
            "Epoch 1/100\n"
          ]
        },
        {
          "name": "stderr",
          "output_type": "stream",
          "text": [
            "/usr/local/lib/python3.7/dist-packages/ipykernel_launcher.py:5: UserWarning: `Model.fit_generator` is deprecated and will be removed in a future version. Please use `Model.fit`, which supports generators.\n",
            "  \"\"\"\n"
          ]
        },
        {
          "name": "stdout",
          "output_type": "stream",
          "text": [
            "58/58 [==============================] - 3s 46ms/step - loss: 0.4242 - accuracy: 0.8645 - val_loss: 0.3340 - val_accuracy: 0.8764\n",
            "Epoch 2/100\n",
            "58/58 [==============================] - 3s 46ms/step - loss: 0.2834 - accuracy: 0.8981 - val_loss: 0.2995 - val_accuracy: 0.8932\n",
            "Epoch 3/100\n",
            "58/58 [==============================] - 4s 63ms/step - loss: 0.2685 - accuracy: 0.9035 - val_loss: 0.3022 - val_accuracy: 0.8903\n",
            "Epoch 4/100\n",
            "58/58 [==============================] - 3s 56ms/step - loss: 0.2637 - accuracy: 0.9045 - val_loss: 0.2946 - val_accuracy: 0.8955\n",
            "Epoch 5/100\n",
            "58/58 [==============================] - 5s 78ms/step - loss: 0.2530 - accuracy: 0.9085 - val_loss: 0.2954 - val_accuracy: 0.8941\n",
            "Epoch 6/100\n",
            "58/58 [==============================] - 5s 84ms/step - loss: 0.2538 - accuracy: 0.9082 - val_loss: 0.3023 - val_accuracy: 0.8919\n",
            "Epoch 7/100\n",
            "58/58 [==============================] - 4s 61ms/step - loss: 0.2499 - accuracy: 0.9096 - val_loss: 0.2879 - val_accuracy: 0.8969\n",
            "Epoch 8/100\n",
            "58/58 [==============================] - 3s 51ms/step - loss: 0.2434 - accuracy: 0.9128 - val_loss: 0.3027 - val_accuracy: 0.8919\n",
            "Epoch 9/100\n",
            "58/58 [==============================] - 3s 51ms/step - loss: 0.2432 - accuracy: 0.9117 - val_loss: 0.2859 - val_accuracy: 0.8977\n",
            "Epoch 10/100\n",
            "58/58 [==============================] - 3s 51ms/step - loss: 0.2357 - accuracy: 0.9152 - val_loss: 0.2916 - val_accuracy: 0.8944\n",
            "Epoch 11/100\n",
            "58/58 [==============================] - 3s 45ms/step - loss: 0.2348 - accuracy: 0.9143 - val_loss: 0.2927 - val_accuracy: 0.8948\n",
            "Epoch 12/100\n",
            "58/58 [==============================] - 3s 51ms/step - loss: 0.2384 - accuracy: 0.9132 - val_loss: 0.2949 - val_accuracy: 0.8951\n",
            "Epoch 13/100\n",
            "58/58 [==============================] - 3s 51ms/step - loss: 0.2365 - accuracy: 0.9128 - val_loss: 0.2838 - val_accuracy: 0.8976\n",
            "Epoch 14/100\n",
            "58/58 [==============================] - 3s 51ms/step - loss: 0.2292 - accuracy: 0.9169 - val_loss: 0.2905 - val_accuracy: 0.8954\n",
            "Epoch 15/100\n",
            "58/58 [==============================] - 3s 45ms/step - loss: 0.2254 - accuracy: 0.9185 - val_loss: 0.2925 - val_accuracy: 0.8936\n",
            "Epoch 16/100\n",
            "58/58 [==============================] - 3s 45ms/step - loss: 0.2269 - accuracy: 0.9170 - val_loss: 0.2880 - val_accuracy: 0.8970\n",
            "Epoch 17/100\n",
            "58/58 [==============================] - 3s 52ms/step - loss: 0.2222 - accuracy: 0.9186 - val_loss: 0.2861 - val_accuracy: 0.8971\n",
            "Epoch 18/100\n",
            "58/58 [==============================] - 3s 46ms/step - loss: 0.2245 - accuracy: 0.9185 - val_loss: 0.2921 - val_accuracy: 0.8946\n",
            "Epoch 19/100\n",
            "58/58 [==============================] - 3s 51ms/step - loss: 0.2221 - accuracy: 0.9184 - val_loss: 0.2866 - val_accuracy: 0.8968\n",
            "Epoch 20/100\n",
            "58/58 [==============================] - 3s 52ms/step - loss: 0.2230 - accuracy: 0.9190 - val_loss: 0.2868 - val_accuracy: 0.8957\n",
            "Epoch 21/100\n",
            "58/58 [==============================] - 3s 46ms/step - loss: 0.2198 - accuracy: 0.9191 - val_loss: 0.2798 - val_accuracy: 0.8998\n",
            "Epoch 22/100\n",
            "58/58 [==============================] - 3s 46ms/step - loss: 0.2148 - accuracy: 0.9211 - val_loss: 0.2893 - val_accuracy: 0.8971\n",
            "Epoch 23/100\n",
            "58/58 [==============================] - 3s 54ms/step - loss: 0.2128 - accuracy: 0.9223 - val_loss: 0.2885 - val_accuracy: 0.9002\n",
            "Epoch 24/100\n",
            "58/58 [==============================] - 3s 45ms/step - loss: 0.2158 - accuracy: 0.9200 - val_loss: 0.2821 - val_accuracy: 0.9004\n",
            "Epoch 25/100\n",
            "58/58 [==============================] - 3s 47ms/step - loss: 0.2102 - accuracy: 0.9230 - val_loss: 0.2968 - val_accuracy: 0.8954\n",
            "Epoch 26/100\n",
            "58/58 [==============================] - 3s 52ms/step - loss: 0.2125 - accuracy: 0.9217 - val_loss: 0.2822 - val_accuracy: 0.8988\n",
            "Epoch 27/100\n",
            "58/58 [==============================] - 3s 53ms/step - loss: 0.2065 - accuracy: 0.9251 - val_loss: 0.2824 - val_accuracy: 0.8992\n",
            "Epoch 28/100\n",
            "58/58 [==============================] - 3s 45ms/step - loss: 0.2098 - accuracy: 0.9222 - val_loss: 0.2880 - val_accuracy: 0.8986\n",
            "Epoch 29/100\n",
            "58/58 [==============================] - 3s 46ms/step - loss: 0.2121 - accuracy: 0.9217 - val_loss: 0.2921 - val_accuracy: 0.8960\n",
            "Epoch 30/100\n",
            "58/58 [==============================] - 3s 52ms/step - loss: 0.2057 - accuracy: 0.9242 - val_loss: 0.2838 - val_accuracy: 0.8994\n",
            "Epoch 31/100\n",
            "58/58 [==============================] - 3s 47ms/step - loss: 0.2054 - accuracy: 0.9245 - val_loss: 0.2861 - val_accuracy: 0.8985\n"
          ]
        },
        {
          "data": {
            "text/plain": [
              "<keras.callbacks.History at 0x7f0303b98d10>"
            ]
          },
          "execution_count": 17,
          "metadata": {},
          "output_type": "execute_result"
        }
      ],
      "source": [
        "# TODO: train your model\n",
        "batch_size = 1024\n",
        "model.fit_generator(datagen.flow(X_train_norm, y_train_cat, batch_size=batch_size),\n",
        "                    validation_data=(X_test_norm, y_test_cat), callbacks=callbacks,\n",
        "                    steps_per_epoch=len(X_train_norm) / batch_size, epochs=100)"
      ]
    },
    {
      "cell_type": "code",
      "execution_count": null,
      "metadata": {
        "colab": {
          "base_uri": "https://localhost:8080/"
        },
        "id": "jsTm86tuyO8r",
        "outputId": "36b5c6a1-63b6-4a92-82ea-961422411014"
      },
      "outputs": [
        {
          "name": "stdout",
          "output_type": "stream",
          "text": [
            "accuracy on train with NN: 0.93155\n",
            "accuracy on test with NN: 0.8985\n"
          ]
        }
      ],
      "source": [
        "# TODO: Compute the accuracy of your model\n",
        "from sklearn.metrics import accuracy_score\n",
        "\n",
        "batch_size=1024\n",
        "y_pred_train = to_categorical(..., num_classes=10)\n",
        "y_pred_test = to_categorical(..., num_classes=10)\n",
        "\n",
        "print('accuracy on train with NN:', accuracy_score(y_pred_train, y_train_cat))\n",
        "print('accuracy on test with NN:', accuracy_score(y_pred_test, y_test_cat))"
      ]
    },
    {
      "cell_type": "markdown",
      "metadata": {
        "id": "jOzkdGf7yO8s"
      },
      "source": [
        "You can now try to improve even more your results. For example, add more parameters to your `ImageDataGenerator`, play with some hyperparameters, and so on..."
      ]
    }
  ],
  "metadata": {
    "accelerator": "GPU",
    "colab": {
      "provenance": []
    },
    "kernelspec": {
      "display_name": "Python 3",
      "language": "python",
      "name": "python3"
    },
    "language_info": {
      "codemirror_mode": {
        "name": "ipython",
        "version": 3
      },
      "file_extension": ".py",
      "mimetype": "text/x-python",
      "name": "python",
      "nbconvert_exporter": "python",
      "pygments_lexer": "ipython3",
      "version": "3.7.4"
    },
    "toc": {
      "base_numbering": 1,
      "nav_menu": {},
      "number_sections": true,
      "sideBar": true,
      "skip_h1_title": false,
      "title_cell": "Table of Contents",
      "title_sidebar": "Contents",
      "toc_cell": false,
      "toc_position": {},
      "toc_section_display": true,
      "toc_window_display": false
    },
    "varInspector": {
      "cols": {
        "lenName": 16,
        "lenType": 16,
        "lenVar": 40
      },
      "kernels_config": {
        "python": {
          "delete_cmd_postfix": "",
          "delete_cmd_prefix": "del ",
          "library": "var_list.py",
          "varRefreshCmd": "print(var_dic_list())"
        },
        "r": {
          "delete_cmd_postfix": ") ",
          "delete_cmd_prefix": "rm(",
          "library": "var_list.r",
          "varRefreshCmd": "cat(var_dic_list()) "
        }
      },
      "types_to_exclude": [
        "module",
        "function",
        "builtin_function_or_method",
        "instance",
        "_Feature"
      ],
      "window_display": false
    }
  },
  "nbformat": 4,
  "nbformat_minor": 0
}